{
 "cells": [
  {
   "cell_type": "code",
   "execution_count": null,
   "id": "bcf0a1cf",
   "metadata": {},
   "outputs": [],
   "source": [
    "%matplotlib inline\n",
    "from matplotlib import pyplot as plt\n",
    "import pandas as pd\n",
    "import numpy as np\n",
    "import os\n",
    "import cv2\n",
    "from sklearn.preprocessing import LabelEncoder\n",
    "import tensorflow as tf\n",
    "from tensorflow.keras import layers, models\n",
    "from tensorflow.keras.preprocessing.image import ImageDataGenerator\n",
    "from keras.models import Sequential\n",
    "from keras.layers import Conv2D, MaxPooling2D, Flatten, Dense\n",
    "from keras.preprocessing.image import ImageDataGenerator\n",
    "from keras.layers import LeakyReLU\n",
    "from sklearn.model_selection import train_test_split\n",
    "from tensorflow.keras.preprocessing import image as keras_image\n",
    "import face_recognition"
   ]
  },
  {
   "cell_type": "code",
   "execution_count": null,
   "id": "27b4ed92",
   "metadata": {},
   "outputs": [],
   "source": [
    "# Path\n",
    "\n",
    "train = \"\""
   ]
  },
  {
   "cell_type": "code",
   "execution_count": null,
   "id": "6972d1ac",
   "metadata": {},
   "outputs": [],
   "source": [
    "#read dataset for training\n",
    "def load_data_from_folder(folder_path):\n",
    "    images = []\n",
    "    labels = []\n",
    "\n",
    "    for name in os.listdir(folder_path):\n",
    "        path = os.path.join(folder_path, name)\n",
    "        if os.path.isdir(path):\n",
    "            for filename in os.listdir(path):\n",
    "                if filename.endswith('.jpg'):\n",
    "                    image = cv2.imread(os.path.join(path, filename))\n",
    "                    images.append(image)\n",
    "                    labels.append(name)\n",
    "\n",
    "    return images, labels"
   ]
  },
  {
   "cell_type": "code",
   "execution_count": null,
   "id": "3f7eb51d",
   "metadata": {},
   "outputs": [],
   "source": [
    "data_x, data_y = load_data_from_folder(train)"
   ]
  },
  {
   "cell_type": "code",
   "execution_count": null,
   "id": "0e752f9e",
   "metadata": {},
   "outputs": [],
   "source": [
    "data_x = np.array(data_x)\n",
    "data_y = np.array(data_y)"
   ]
  },
  {
   "cell_type": "code",
   "execution_count": null,
   "id": "00603089",
   "metadata": {},
   "outputs": [],
   "source": [
    "label_encoder = LabelEncoder()\n",
    "data_y = label_encoder.fit_transform(data_y)"
   ]
  },
  {
   "cell_type": "code",
   "execution_count": null,
   "id": "ab49d09b",
   "metadata": {},
   "outputs": [],
   "source": [
    "np.unique(data_y)"
   ]
  },
  {
   "cell_type": "code",
   "execution_count": null,
   "id": "f4462b74",
   "metadata": {},
   "outputs": [],
   "source": [
    "data_x = data_x / 255.0"
   ]
  },
  {
   "cell_type": "code",
   "execution_count": null,
   "id": "8b855224",
   "metadata": {
    "scrolled": true
   },
   "outputs": [],
   "source": [
    "data_x"
   ]
  },
  {
   "cell_type": "markdown",
   "id": "312a8986",
   "metadata": {},
   "source": [
    "# Inception"
   ]
  },
  {
   "cell_type": "code",
   "execution_count": null,
   "id": "f417b632",
   "metadata": {},
   "outputs": [],
   "source": [
    "x_train, x_test, y_train, y_test = train_test_split(data_x, data_y, test_size=0.2)"
   ]
  },
  {
   "cell_type": "code",
   "execution_count": null,
   "id": "04241379",
   "metadata": {},
   "outputs": [],
   "source": [
    "inception_model = models.Sequential([\n",
    "    layers.InputLayer((48, 48, 3)),\n",
    "    \n",
    "    layers.Conv2D(64, (7, 7), strides=(2, 2)),\n",
    "    LeakyReLU(alpha=0.1),\n",
    "    layers.MaxPooling2D((3, 3), strides=(2, 2)),\n",
    "    \n",
    "    layers.Conv2D(192, (3, 3), strides=(1, 1)),\n",
    "    LeakyReLU(alpha=0.1),\n",
    "    layers.MaxPooling2D((3, 3), strides=(2, 2)),\n",
    "    \n",
    "    # inception layer 1\n",
    "    layers.Conv2D(64, (1, 1), padding='same'),\n",
    "    LeakyReLU(alpha=0.1),\n",
    "    layers.Conv2D(128, (3, 3), padding='same'),\n",
    "    LeakyReLU(alpha=0.1),\n",
    "    layers.Conv2D(96, (1, 1), padding='same'),\n",
    "    LeakyReLU(alpha=0.1),\n",
    "    layers.Conv2D(32, (5, 5), padding='same'),\n",
    "    LeakyReLU(alpha=0.1),\n",
    "    layers.Conv2D(16, (1, 1), padding='same'),\n",
    "    LeakyReLU(alpha=0.1),\n",
    "    \n",
    "    layers.MaxPooling2D((2, 2), strides=(2, 2)),\n",
    "    \n",
    "    layers.GlobalAveragePooling2D(),\n",
    "    layers.Dense(4096),\n",
    "    LeakyReLU(alpha=0.1),\n",
    "    layers.Dense(1024),\n",
    "    LeakyReLU(alpha=0.1),\n",
    "    \n",
    "    layers.Dense(4, activation='softmax')\n",
    "])"
   ]
  },
  {
   "cell_type": "code",
   "execution_count": null,
   "id": "cb2050af",
   "metadata": {
    "scrolled": true
   },
   "outputs": [],
   "source": [
    "inception_model.compile(optimizer='adam',\n",
    "                        loss='sparse_categorical_crossentropy',\n",
    "                        metrics=['accuracy'])\n",
    "\n",
    "inception_model.fit(x_train, y_train, epochs=60, batch_size=100, validation_data=(x_test, y_test))"
   ]
  },
  {
   "cell_type": "code",
   "execution_count": null,
   "id": "ea4d9a6b",
   "metadata": {},
   "outputs": [],
   "source": [
    "test_loss, test_acc = inception_model.evaluate(x_test, y_test)\n",
    "print(f'Test accuracy: {test_acc}')"
   ]
  },
  {
   "cell_type": "code",
   "execution_count": null,
   "id": "4057d47c",
   "metadata": {},
   "outputs": [],
   "source": [
    "#load NAO pictures from file for testing\n",
    "def load_data_from_folder_test(folder_path):\n",
    "    images = []\n",
    "    labels = []\n",
    "\n",
    "    for name in os.listdir(folder_path):\n",
    "        path = os.path.join(folder_path, name)\n",
    "        if os.path.isdir(path):\n",
    "            for filename in os.listdir(path):\n",
    "                if filename.endswith('.jpeg'):\n",
    "                    \n",
    "                    image_path = os.path.join(path, filename) \n",
    "                    \n",
    "                    image = cv2.imread(image_path, cv2.COLOR_RGBA2BGR)\n",
    "                                                                            \n",
    "                    cropped_faces = crop_faces(image)\n",
    "                                        \n",
    "                    #replicated_image = np.stack((cropped_faces,) * 3, axis=-1)\n",
    "                    for face in cropped_faces:\n",
    "                        \n",
    "                    \n",
    "                        normalized_image = face / 255.0\n",
    "                    \n",
    "                        images.append(normalized_image)\n",
    "                        labels.append(name)\n",
    "                                        \n",
    "                    for i, face in enumerate(cropped_faces):\n",
    "                        plt.imshow(face)\n",
    "                        plt.show()\n",
    "\n",
    "    return images, labels\n",
    "\n",
    "def crop_faces(image):\n",
    "    face_locations = face_recognition.face_locations(image)   \n",
    "    cropped_faces = []\n",
    "    for face_location in face_locations:\n",
    "        top, right, bottom, left = face_location     \n",
    "        cropped_face = image[top:bottom, left:right]\n",
    "        cropped_face = cv2.cvtColor(cropped_face, cv2.COLOR_RGBA2BGR)\n",
    "        cropped_face = cv2.resize(cropped_face, (48, 48))\n",
    "        cropped_faces.append(cropped_face)\n",
    "    return cropped_faces"
   ]
  },
  {
   "cell_type": "code",
   "execution_count": null,
   "id": "408c0b0f",
   "metadata": {
    "scrolled": true
   },
   "outputs": [],
   "source": [
    "test_folder = \"\"\n",
    "nao_x, nao_y = load_data_from_folder_test(test_folder)\n",
    "\n",
    "nao_x = np.array(nao_x)\n",
    "nao_y = np.array(nao_y)"
   ]
  },
  {
   "cell_type": "code",
   "execution_count": null,
   "id": "164bb4de",
   "metadata": {},
   "outputs": [],
   "source": [
    "label_encoder = LabelEncoder()\n",
    "nao_y = label_encoder.fit_transform(nao_y)"
   ]
  },
  {
   "cell_type": "code",
   "execution_count": null,
   "id": "44bff2ef",
   "metadata": {
    "scrolled": true
   },
   "outputs": [],
   "source": [
    "test_loss, test_acc = inception_model.evaluate(nao_x, nao_y)\n",
    "print(f'Test accuracy: {test_acc}')"
   ]
  },
  {
   "cell_type": "markdown",
   "id": "614f566c",
   "metadata": {},
   "source": [
    "# CNN"
   ]
  },
  {
   "cell_type": "code",
   "execution_count": null,
   "id": "2bf98335",
   "metadata": {},
   "outputs": [],
   "source": [
    "cnn_model = models.Sequential([\n",
    "    layers.InputLayer((48,48,3),100),\n",
    "    layers.Conv2D(64, kernel_size=(3, 3), activation='relu'),\n",
    "    layers.MaxPooling2D((2, 2)),\n",
    "    layers.Conv2D(128, (3, 3), activation='relu'),\n",
    "    layers.Conv2D(128, (3, 3), activation='relu'),\n",
    "    layers.MaxPooling2D((2, 2)),\n",
    "    layers.Conv2D(256, (3, 3), activation='relu'),\n",
    "    layers.Conv2D(256, (3, 3), activation='relu'),\n",
    "    layers.MaxPooling2D((2, 2)),\n",
    "    layers.Flatten(),\n",
    "    layers.Dense(4096, activation='relu'),\n",
    "    layers.Dense(4096, activation='relu'),\n",
    "    layers.Dense(4, activation='softmax')\n",
    "])\n"
   ]
  },
  {
   "cell_type": "code",
   "execution_count": null,
   "id": "cc6350e8",
   "metadata": {},
   "outputs": [],
   "source": [
    "cnn_model.compile(optimizer='adam',\n",
    "                loss='sparse_categorical_crossentropy',\n",
    "                metrics=['accuracy'])\n",
    "\n",
    "cnn_model.fit(x_train, y_train, epochs=40, batch_size=100, validation_data=(x_test, y_test))\n",
    "\n",
    "\n",
    "test_loss, test_acc = cnn_model.evaluate(x_test, y_test)\n",
    "print(f'Test accuracy: {test_acc}')"
   ]
  },
  {
   "cell_type": "markdown",
   "id": "84248ec5",
   "metadata": {},
   "source": [
    "# VGG"
   ]
  },
  {
   "cell_type": "code",
   "execution_count": null,
   "id": "2f2a681e",
   "metadata": {},
   "outputs": [],
   "source": [
    "vgg16_layer = models.Sequential([\n",
    "    layers.InputLayer((48,48,3),32),\n",
    "    \n",
    "    layers.Conv2D(128, (3, 3), activation='relu'),\n",
    "    layers.BatchNormalization(),\n",
    "    layers.MaxPooling2D((2, 2)),\n",
    "    \n",
    "    layers.Conv2D(256, (3, 3), activation='relu'),\n",
    "    layers.BatchNormalization(),\n",
    "    layers.MaxPooling2D((2, 2)),\n",
    "    \n",
    "    layers.Conv2D(512, (3, 3), activation='relu'),\n",
    "    layers.BatchNormalization(),\n",
    "    layers.MaxPooling2D((2, 2)),\n",
    "    \n",
    "    layers.Conv2D(1024, (3, 3), activation='relu'),\n",
    "    layers.BatchNormalization(),\n",
    "    layers.MaxPooling2D((2, 2)),\n",
    "    \n",
    "    layers.GlobalAveragePooling2D(),\n",
    "    layers.Dense(4, activation='softmax')\n",
    "])"
   ]
  },
  {
   "cell_type": "code",
   "execution_count": null,
   "id": "4b1ef463",
   "metadata": {},
   "outputs": [],
   "source": [
    "vgg16_layer.compile(optimizer='adam',\n",
    "                    loss='sparse_categorical_crossentropy',\n",
    "                    metrics=['accuracy'])\n",
    "\n",
    "vgg16_layer.fit(train_x, train_y, epochs=50, batch_size=32, validation_data=(test_x, test_y))\n",
    "\n",
    "\n",
    "test_loss, test_acc = vgg16_layer.evaluate(test_x, test_y)\n",
    "print(f'Test accuracy: {test_acc}')"
   ]
  }
 ],
 "metadata": {
  "kernelspec": {
   "display_name": "Python 3",
   "language": "python",
   "name": "python3"
  },
  "language_info": {
   "codemirror_mode": {
    "name": "ipython",
    "version": 3
   },
   "file_extension": ".py",
   "mimetype": "text/x-python",
   "name": "python",
   "nbconvert_exporter": "python",
   "pygments_lexer": "ipython3",
   "version": "3.8.8"
  }
 },
 "nbformat": 4,
 "nbformat_minor": 5
}
